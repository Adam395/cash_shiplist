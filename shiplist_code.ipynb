{
 "cells": [
  {
   "cell_type": "markdown",
   "metadata": {},
   "source": [
    "# C.A.S.H Ship Analyzer"
   ]
  },
  {
   "cell_type": "markdown",
   "metadata": {},
   "source": [
    "### Importer and Concatenater"
   ]
  },
  {
   "cell_type": "markdown",
   "metadata": {},
   "source": [
    "'Pip install xxx' any missing modules from the below. I believe only 'pandas' and 'os' aren't bundled with the latest version of Python."
   ]
  },
  {
   "cell_type": "code",
   "execution_count": 2,
   "metadata": {},
   "outputs": [],
   "source": [
    "#General tools\n",
    "import pandas as pd \n",
    "import numpy as np\n",
    "import os\n",
    "\n",
    "#Plotting tools\n",
    "import matplotlib.pyplot as plt \n",
    "import seaborn as sbn"
   ]
  },
  {
   "cell_type": "code",
   "execution_count": 3,
   "metadata": {},
   "outputs": [
    {
     "output_type": "error",
     "ename": "NameError",
     "evalue": "name 'aegis_dict' is not defined",
     "traceback": [
      "\u001b[1;31m---------------------------------------------------------------------------\u001b[0m",
      "\u001b[1;31mNameError\u001b[0m                                 Traceback (most recent call last)",
      "\u001b[1;32m<ipython-input-3-9ba9cc948c41>\u001b[0m in \u001b[0;36m<module>\u001b[1;34m\u001b[0m\n\u001b[0;32m      2\u001b[0m \u001b[1;31m#Dictionary of all manufacturers\u001b[0m\u001b[1;33m\u001b[0m\u001b[1;33m\u001b[0m\u001b[1;33m\u001b[0m\u001b[0m\n\u001b[0;32m      3\u001b[0m manufacturer_dict = {\n\u001b[1;32m----> 4\u001b[1;33m    \u001b[1;34m'Aegis_Dynamics'\u001b[0m\u001b[1;33m:\u001b[0m\u001b[0maegis_dict\u001b[0m\u001b[1;33m,\u001b[0m\u001b[1;33m\u001b[0m\u001b[1;33m\u001b[0m\u001b[0m\n\u001b[0m\u001b[0;32m      5\u001b[0m    \u001b[1;34m'Anvil_Aerospace'\u001b[0m\u001b[1;33m:\u001b[0m\u001b[0manvil_dict\u001b[0m\u001b[1;33m,\u001b[0m\u001b[1;33m\u001b[0m\u001b[1;33m\u001b[0m\u001b[0m\n\u001b[0;32m      6\u001b[0m    \u001b[1;34m'AopoA'\u001b[0m\u001b[1;33m:\u001b[0m\u001b[0maopoa_dict\u001b[0m\u001b[1;33m,\u001b[0m\u001b[1;33m\u001b[0m\u001b[1;33m\u001b[0m\u001b[0m\n",
      "\u001b[1;31mNameError\u001b[0m: name 'aegis_dict' is not defined"
     ]
    }
   ],
   "source": [
    "#Global Dictionaries and Classifications\n",
    "#Dictionary of all manufacturers\n",
    "manufacturer_dict = {\n",
    "   'Aegis_Dynamics':aegis_dict,\n",
    "   'Anvil_Aerospace':anvil_dict,\n",
    "   'AopoA':aopoa_dict,\n",
    "   'ARGO_Astronautics':argo_dict,\n",
    "   'Banu_Souli':banu_dict,\n",
    "   'Consolidated_Outland':co_dict,\n",
    "   'Crusader_Industries':crusader_dict,\n",
    "   'Drake_Interplanetary':drake_dict,\n",
    "   'Esperia_Inc.':esperia_dict,\n",
    "   'Kruger_Intergalactic':kruger_dict,\n",
    "   'MISC':misc_dict,\n",
    "   'Origin_Jumpworks':origin_dict,\n",
    "   'Roberts Space Industries':rsi_dict\n",
    "}\n",
    "#--------------------------------------\n",
    "#Aegis Ship Data\n",
    "aegis_dict = {\n",
    "    'Avenger Stalker':{\n",
    "\n",
    "    },\n",
    "    'Avenger Titan':{\n",
    "\n",
    "    },\n",
    "    'Avenger Titan Renegade':{\n",
    "\n",
    "    },\n",
    "    'Avenger Trainer':'No Data',\n",
    "    'Avenger Warlock':{\n",
    "\n",
    "    },\n",
    "    'Cutter':'No Data',\n",
    "    'Eclipse':{\n",
    "\n",
    "    },\n",
    "    'Gladius':{\n",
    "\n",
    "    },\n",
    "}"
   ]
  },
  {
   "cell_type": "code",
   "execution_count": 17,
   "metadata": {},
   "outputs": [],
   "source": [
    "#Start creation of master function\n",
    "def create_shiplist():\n",
    "    #Define global variables:\n",
    "    all_ships = pd.DataFrame() #Generates a blank dataframe to concatenate data to.\n",
    "    curr_date = pd.to_datetime('today').date() #Defines \"current date\" variable for use throughout function, such as export title.\n",
    "    n = input('What is # of last CSV?') #User input for number of .csvs being input. Should be the largest integer on input csvs.\n",
    "    \n",
    "#Define all the mini-functions:\n",
    "    \n",
    "    #Import Xplorer CSV from data folder\n",
    "    def csv_import(int): #Takes integer N from input statement above later\n",
    "        df = pd.read_csv(f'./data/shiplist_{int}.csv') #generates a temporary dataframe from the csv\n",
    "        return df #Passes dataframe out for manipulation\n",
    "\n",
    "    #Concatenate imported ships\n",
    "    def df_concat(all_ships, df):\n",
    "        ship_df = pd.concat([all_ships, df], ignore_index=True) #concatenates temp dataframe to global all_ships df\n",
    "        return ship_df\n",
    "    \n",
    "    #Add engineered column to dataframe\n",
    "    def engineer_column(df):\n",
    "        df['Date_Generated'] = curr_date #Creates new column 'Date_Generated' consisting of the date the query was run. \n",
    "        df['Date_Generated'] = df['Date_Generated'].astype('datetime64[ns]') #Converts default string type object to datetime object.\n",
    "        return df\n",
    "    \n",
    "    #Remove spaces from column headers\n",
    "    def remove_spaces(df):\n",
    "        df.columns.str.replace(' ','') #EDA revealed default CSV output includes hidden spaces in headers. Removes the spaces.\n",
    "        return df\n",
    "    \n",
    "    #Convert date string to datetime object\n",
    "    def date_to_datetime(df):\n",
    "        df[' Date'] = df[' Date'].astype('datetime64[ns]') #EDA revealed default CSV uses string object for date. Converts to datetime.\n",
    "        return df\n",
    "    \n",
    "    #Convert cost column to float object\n",
    "    def cost_to_float(df):\n",
    "        df[' Cost'] = df[' Cost'].replace('[^.0-9]','',regex=True,inplace = False).astype(float) #Converts Cost column to float value.\n",
    "        return df\n",
    "\n",
    "    #End definition of mini-functions\n",
    "\n",
    "    #DF generator block\n",
    "    for x in range(0,int(n)): #Iterates for every .csv file in data folder.\n",
    "        df = csv_import(x)\n",
    "        all_ships = df_concat(all_ships, df)\n",
    "    all_ships = engineer_column(all_ships)\n",
    "\n",
    "    #Cleaner block\n",
    "    all_ships = date_to_datetime(all_ships)\n",
    "    all_ships = cost_to_float(all_ships)\n",
    "    all_ships = remove_spaces(all_ships)\n",
    "    all_ships = all_ships.sort_values('Manufacturer', ascending = True)\n",
    "    all_ships = all_ships.reset_index(drop = True)\n",
    "    \n",
    "\n",
    "    #Exporter block\n",
    "    if os.path.exists(f\"./data/allships_history/allships_{curr_date}.csv\") == True: #Check if file exists.\n",
    "        overwrite_check = input (\"File already exists--do you want to overwrite? (y/n)\") #Prompt for overwrite confirmation\n",
    "        if str.lower(overwrite_check) != 'y': #If user uses any value except y, the function will skip exporting.\n",
    "            pass\n",
    "        else:\n",
    "            all_ships.to_csv(f\"./data/allships_history/allships_{curr_date}.csv\", index = False)\n",
    "\n",
    "    return all_ships"
   ]
  },
  {
   "cell_type": "code",
   "execution_count": 18,
   "metadata": {},
   "outputs": [
    {
     "output_type": "execute_result",
     "data": {
      "text/plain": "    Manufacturer                     Ship    Lti   Warbond        ID  \\\n0          Aegis          Avenger Stalker   True     False   3389393   \n1          Aegis                    Sabre   True     False  21076136   \n2          Aegis                Reclaimer   True     False  20944132   \n3          Aegis                    Sabre  False     False  22050084   \n4          Aegis   Avenger Titan Renegade  False     False  22144110   \n..           ...                      ...    ...       ...       ...   \n436      Vanduul  Captured Vanduul Scythe   True     False   3388812   \n437      Vanduul                   Glaive   True     False   4892595   \n438      Vanduul                   Glaive   True     False   3388812   \n439        Xi'an                Khartu-al   True     False   4679792   \n440        Xi'an                Khartu-al   True     False   3388812   \n\n                                                Pledge     Cost       Date  \\\n0                           Combo - War Pack - Digital   6865.0 2014-12-22   \n1                  Package - UEE Exploration 2948 Pack    800.0 2020-01-24   \n2                               Package - Company Pack   1700.0 2020-01-06   \n3              Standalone Ship - Anvil Arrow - ILW2950    170.0 2020-05-25   \n4    Standalone Ship - Aegis Avenger Titan Renegade...     75.0 2020-05-28   \n..                                                 ...      ...        ...   \n436                Combo - The Completionist - Digital  17161.0 2014-12-22   \n437                   Standalone Ship - Vanduul Glaive    350.0 2015-08-07   \n438                Combo - The Completionist - Digital  17161.0 2014-12-22   \n439        Standalone Ship - Reliant Mini Hauler - LTI    150.0 2015-05-22   \n440                Combo - The Completionist - Digital  17161.0 2014-12-22   \n\n    Date_Generated  \n0       2020-06-09  \n1       2020-06-09  \n2       2020-06-09  \n3       2020-06-09  \n4       2020-06-09  \n..             ...  \n436     2020-06-09  \n437     2020-06-09  \n438     2020-06-09  \n439     2020-06-09  \n440     2020-06-09  \n\n[441 rows x 9 columns]",
      "text/html": "<div>\n<style scoped>\n    .dataframe tbody tr th:only-of-type {\n        vertical-align: middle;\n    }\n\n    .dataframe tbody tr th {\n        vertical-align: top;\n    }\n\n    .dataframe thead th {\n        text-align: right;\n    }\n</style>\n<table border=\"1\" class=\"dataframe\">\n  <thead>\n    <tr style=\"text-align: right;\">\n      <th></th>\n      <th>Manufacturer</th>\n      <th>Ship</th>\n      <th>Lti</th>\n      <th>Warbond</th>\n      <th>ID</th>\n      <th>Pledge</th>\n      <th>Cost</th>\n      <th>Date</th>\n      <th>Date_Generated</th>\n    </tr>\n  </thead>\n  <tbody>\n    <tr>\n      <th>0</th>\n      <td>Aegis</td>\n      <td>Avenger Stalker</td>\n      <td>True</td>\n      <td>False</td>\n      <td>3389393</td>\n      <td>Combo - War Pack - Digital</td>\n      <td>6865.0</td>\n      <td>2014-12-22</td>\n      <td>2020-06-09</td>\n    </tr>\n    <tr>\n      <th>1</th>\n      <td>Aegis</td>\n      <td>Sabre</td>\n      <td>True</td>\n      <td>False</td>\n      <td>21076136</td>\n      <td>Package - UEE Exploration 2948 Pack</td>\n      <td>800.0</td>\n      <td>2020-01-24</td>\n      <td>2020-06-09</td>\n    </tr>\n    <tr>\n      <th>2</th>\n      <td>Aegis</td>\n      <td>Reclaimer</td>\n      <td>True</td>\n      <td>False</td>\n      <td>20944132</td>\n      <td>Package - Company Pack</td>\n      <td>1700.0</td>\n      <td>2020-01-06</td>\n      <td>2020-06-09</td>\n    </tr>\n    <tr>\n      <th>3</th>\n      <td>Aegis</td>\n      <td>Sabre</td>\n      <td>False</td>\n      <td>False</td>\n      <td>22050084</td>\n      <td>Standalone Ship - Anvil Arrow - ILW2950</td>\n      <td>170.0</td>\n      <td>2020-05-25</td>\n      <td>2020-06-09</td>\n    </tr>\n    <tr>\n      <th>4</th>\n      <td>Aegis</td>\n      <td>Avenger Titan Renegade</td>\n      <td>False</td>\n      <td>False</td>\n      <td>22144110</td>\n      <td>Standalone Ship - Aegis Avenger Titan Renegade...</td>\n      <td>75.0</td>\n      <td>2020-05-28</td>\n      <td>2020-06-09</td>\n    </tr>\n    <tr>\n      <th>...</th>\n      <td>...</td>\n      <td>...</td>\n      <td>...</td>\n      <td>...</td>\n      <td>...</td>\n      <td>...</td>\n      <td>...</td>\n      <td>...</td>\n      <td>...</td>\n    </tr>\n    <tr>\n      <th>436</th>\n      <td>Vanduul</td>\n      <td>Captured Vanduul Scythe</td>\n      <td>True</td>\n      <td>False</td>\n      <td>3388812</td>\n      <td>Combo - The Completionist - Digital</td>\n      <td>17161.0</td>\n      <td>2014-12-22</td>\n      <td>2020-06-09</td>\n    </tr>\n    <tr>\n      <th>437</th>\n      <td>Vanduul</td>\n      <td>Glaive</td>\n      <td>True</td>\n      <td>False</td>\n      <td>4892595</td>\n      <td>Standalone Ship - Vanduul Glaive</td>\n      <td>350.0</td>\n      <td>2015-08-07</td>\n      <td>2020-06-09</td>\n    </tr>\n    <tr>\n      <th>438</th>\n      <td>Vanduul</td>\n      <td>Glaive</td>\n      <td>True</td>\n      <td>False</td>\n      <td>3388812</td>\n      <td>Combo - The Completionist - Digital</td>\n      <td>17161.0</td>\n      <td>2014-12-22</td>\n      <td>2020-06-09</td>\n    </tr>\n    <tr>\n      <th>439</th>\n      <td>Xi'an</td>\n      <td>Khartu-al</td>\n      <td>True</td>\n      <td>False</td>\n      <td>4679792</td>\n      <td>Standalone Ship - Reliant Mini Hauler - LTI</td>\n      <td>150.0</td>\n      <td>2015-05-22</td>\n      <td>2020-06-09</td>\n    </tr>\n    <tr>\n      <th>440</th>\n      <td>Xi'an</td>\n      <td>Khartu-al</td>\n      <td>True</td>\n      <td>False</td>\n      <td>3388812</td>\n      <td>Combo - The Completionist - Digital</td>\n      <td>17161.0</td>\n      <td>2014-12-22</td>\n      <td>2020-06-09</td>\n    </tr>\n  </tbody>\n</table>\n<p>441 rows × 9 columns</p>\n</div>"
     },
     "metadata": {},
     "execution_count": 18
    }
   ],
   "source": [
    "allships = create_shiplist()\n",
    "allships"
   ]
  },
  {
   "cell_type": "markdown",
   "metadata": {},
   "source": [
    "## Basic Analysis"
   ]
  },
  {
   "cell_type": "code",
   "execution_count": 14,
   "metadata": {},
   "outputs": [
    {
     "output_type": "error",
     "ename": "NameError",
     "evalue": "name 'allships' is not defined",
     "traceback": [
      "\u001b[1;31m---------------------------------------------------------------------------\u001b[0m",
      "\u001b[1;31mNameError\u001b[0m                                 Traceback (most recent call last)",
      "\u001b[1;32m<ipython-input-14-287b1f6ad717>\u001b[0m in \u001b[0;36m<module>\u001b[1;34m\u001b[0m\n\u001b[1;32m----> 1\u001b[1;33m \u001b[0mallships\u001b[0m\u001b[1;33m[\u001b[0m\u001b[1;34m' Ship'\u001b[0m\u001b[1;33m]\u001b[0m\u001b[1;33m.\u001b[0m\u001b[0mvalue_counts\u001b[0m\u001b[1;33m(\u001b[0m\u001b[1;33m)\u001b[0m\u001b[1;33m\u001b[0m\u001b[1;33m\u001b[0m\u001b[0m\n\u001b[0m",
      "\u001b[1;31mNameError\u001b[0m: name 'allships' is not defined"
     ]
    }
   ],
   "source": [
    "allships[' Ship'].value_counts()"
   ]
  },
  {
   "cell_type": "code",
   "execution_count": 15,
   "metadata": {},
   "outputs": [
    {
     "output_type": "error",
     "ename": "NameError",
     "evalue": "name 'allships' is not defined",
     "traceback": [
      "\u001b[1;31m---------------------------------------------------------------------------\u001b[0m",
      "\u001b[1;31mNameError\u001b[0m                                 Traceback (most recent call last)",
      "\u001b[1;32m<ipython-input-15-c6a71a3e34c5>\u001b[0m in \u001b[0;36m<module>\u001b[1;34m\u001b[0m\n\u001b[0;32m      1\u001b[0m \u001b[0mfig\u001b[0m \u001b[1;33m=\u001b[0m \u001b[0mplt\u001b[0m\u001b[1;33m.\u001b[0m\u001b[0mfigure\u001b[0m\u001b[1;33m(\u001b[0m\u001b[0mfigsize\u001b[0m\u001b[1;33m=\u001b[0m\u001b[1;33m(\u001b[0m\u001b[1;36m9\u001b[0m\u001b[1;33m,\u001b[0m\u001b[1;36m7\u001b[0m\u001b[1;33m)\u001b[0m\u001b[1;33m)\u001b[0m\u001b[1;33m\u001b[0m\u001b[1;33m\u001b[0m\u001b[0m\n\u001b[0;32m      2\u001b[0m \u001b[0max\u001b[0m \u001b[1;33m=\u001b[0m \u001b[0mfig\u001b[0m\u001b[1;33m.\u001b[0m\u001b[0madd_axes\u001b[0m\u001b[1;33m(\u001b[0m\u001b[1;33m[\u001b[0m\u001b[1;36m0\u001b[0m\u001b[1;33m,\u001b[0m\u001b[1;36m0\u001b[0m\u001b[1;33m,\u001b[0m\u001b[1;36m1\u001b[0m\u001b[1;33m,\u001b[0m\u001b[1;36m1\u001b[0m\u001b[1;33m]\u001b[0m\u001b[1;33m)\u001b[0m\u001b[1;33m\u001b[0m\u001b[1;33m\u001b[0m\u001b[0m\n\u001b[1;32m----> 3\u001b[1;33m \u001b[0mmakers\u001b[0m \u001b[1;33m=\u001b[0m \u001b[0mallships\u001b[0m\u001b[1;33m[\u001b[0m\u001b[1;34m'Manufacturer'\u001b[0m\u001b[1;33m]\u001b[0m\u001b[1;33m.\u001b[0m\u001b[0munique\u001b[0m\u001b[1;33m(\u001b[0m\u001b[1;33m)\u001b[0m\u001b[1;33m\u001b[0m\u001b[1;33m\u001b[0m\u001b[0m\n\u001b[0m\u001b[0;32m      4\u001b[0m \u001b[0mcounts\u001b[0m \u001b[1;33m=\u001b[0m \u001b[0mallships\u001b[0m\u001b[1;33m[\u001b[0m\u001b[1;34m'Manufacturer'\u001b[0m\u001b[1;33m]\u001b[0m\u001b[1;33m.\u001b[0m\u001b[0mvalue_counts\u001b[0m\u001b[1;33m(\u001b[0m\u001b[1;33m)\u001b[0m\u001b[1;33m\u001b[0m\u001b[1;33m\u001b[0m\u001b[0m\n\u001b[0;32m      5\u001b[0m \u001b[0max\u001b[0m\u001b[1;33m.\u001b[0m\u001b[0mbar\u001b[0m\u001b[1;33m(\u001b[0m\u001b[0mmakers\u001b[0m\u001b[1;33m,\u001b[0m \u001b[0mcounts\u001b[0m\u001b[1;33m)\u001b[0m\u001b[1;33m\u001b[0m\u001b[1;33m\u001b[0m\u001b[0m\n",
      "\u001b[1;31mNameError\u001b[0m: name 'allships' is not defined"
     ]
    }
   ],
   "source": [
    "fig = plt.figure(figsize=(9,7))\n",
    "ax = fig.add_axes([0,0,1,1])\n",
    "makers = allships['Manufacturer'].unique()\n",
    "counts = allships['Manufacturer'].value_counts()\n",
    "ax.bar(makers, counts)\n",
    "ax.tick_params(axis = \"both\", labelsize = 12)\n",
    "ax.set_title('Ship Counts by Manufacturer', fontsize=20)\n",
    "ax.set_xlabel('Manufacturers', fontsize = 16)\n",
    "ax.set_ylabel('Ship Count', fontsize = 16)\n",
    "plt.xticks(rotation=90)\n",
    "\n",
    "plt.show()\n"
   ]
  },
  {
   "cell_type": "markdown",
   "metadata": {},
   "source": [
    "## Analysis Tools"
   ]
  },
  {
   "cell_type": "markdown",
   "metadata": {},
   "source": [
    "### Total Expenditure"
   ]
  },
  {
   "cell_type": "markdown",
   "metadata": {},
   "source": [
    "This tool will generate a copy of the user allships dataframe, drop all rows with duplicate package IDs, and return a DF of packages indicating LTI, Warbond, and cost. It will drop Manufacturer and Ship columns."
   ]
  }
 ],
 "metadata": {
  "language_info": {
   "codemirror_mode": {
    "name": "ipython",
    "version": 3
   },
   "file_extension": ".py",
   "mimetype": "text/x-python",
   "name": "python",
   "nbconvert_exporter": "python",
   "pygments_lexer": "ipython3",
   "version": "3.7.6-final"
  },
  "orig_nbformat": 2,
  "kernelspec": {
   "name": "python37664bitbasecondaee3f5a880b8a439e93a8da94ba4d53af",
   "display_name": "Python 3.7.6 64-bit ('base': conda)"
  }
 },
 "nbformat": 4,
 "nbformat_minor": 2
}