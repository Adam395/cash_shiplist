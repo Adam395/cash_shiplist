{
 "cells": [
  {
   "cell_type": "markdown",
   "metadata": {},
   "source": [
    "# C.A.S.H Ship Analyzer"
   ]
  },
  {
   "cell_type": "markdown",
   "metadata": {},
   "source": [
    "### Importer and Concatenater"
   ]
  },
  {
   "cell_type": "markdown",
   "metadata": {},
   "source": [
    "'Pip install xxx' any missing modules from the below. I believe only 'pandas' and 'os' aren't bundled with the latest version of Python."
   ]
  },
  {
   "cell_type": "code",
   "execution_count": 49,
   "metadata": {},
   "outputs": [],
   "source": [
    "#General tools\n",
    "import pandas as pd \n",
    "import numpy as np\n",
    "import os\n",
    "\n",
    "#Plotting tools\n",
    "import matplotlib.pyplot as plt \n",
    "import seaborn as sbn"
   ]
  },
  {
   "cell_type": "code",
   "execution_count": 51,
   "metadata": {},
   "outputs": [],
   "source": [
    "#Classification Metrics\n"
   ]
  },
  {
   "cell_type": "code",
   "execution_count": 53,
   "metadata": {},
   "outputs": [],
   "source": [
    "#Start creation of master function\n",
    "def create_shiplist():\n",
    "    #Define global variables:\n",
    "    all_ships = pd.DataFrame() #Generates a blank dataframe to concatenate data to.\n",
    "    curr_date = pd.to_datetime('today').date() #Defines \"current date\" variable for use throughout function, such as export title.\n",
    "    n = input('What is last # of last CSV?') #User input for number of .csvs being input. Should be the largest integer on input csvs.\n",
    "    \n",
    "    #Define all the mini-functions:\n",
    "    #Import Xplorer CSV from data folder\n",
    "    def csv_import(int): #Takes integer N from input statement above later\n",
    "        df = pd.read_csv(f'./data/shiplist_{int}.csv') #generates a temporary dataframe from the csv\n",
    "        return df #Passes dataframe out for manipulation\n",
    "    #Concatenate imported ships\n",
    "    def df_concat(all_ships, df):\n",
    "        ship_df = pd.concat([all_ships, df], ignore_index=True) #concatenates temp dataframe to global all_ships df\n",
    "        return ship_df\n",
    "    #Add engineered column to dataframe\n",
    "    def engineer_column(df):\n",
    "        df['Date_Generated'] = curr_date #Creates new column 'Date_Generated' consisting of the date the query was run. \n",
    "        df['Date_Generated'] = df['Date_Generated'].astype('datetime64[ns]') #Converts default string type object to datetime object.\n",
    "        return df\n",
    "    #Remove spaces from column headers\n",
    "    def remove_spaces(df):\n",
    "        df.columns = df.columns.str.lstrip() #EDA revealed default CSV output includes hidden spaces in headers. Removes the spaces.\n",
    "        return df\n",
    "    #Convert date string to datetime object\n",
    "    def date_to_datetime(df):\n",
    "        df[' Date'] = df[' Date'].astype('datetime64[ns]') #EDA revealed default CSV uses string object for date. Converts to datetime.\n",
    "        return df\n",
    "    #Convert cost column to float object\n",
    "    def cost_to_float(df):\n",
    "        df[' Cost'] = df[' Cost'].replace('[^.0-9]','',regex=True,inplace = False).astype(float) #Converts Cost column to float value.\n",
    "        return df\n",
    "\n",
    "    #End definition of mini-functions\n",
    "\n",
    "    #DF generator block\n",
    "    for x in range(0,int(n)): #Iterates for every .csv file in data folder.\n",
    "        df = csv_import(x)\n",
    "        all_ships = df_concat(all_ships, df)\n",
    "    all_ships = engineer_column(all_ships)\n",
    "\n",
    "    #Cleaner block\n",
    "    all_ships = date_to_datetime(all_ships)\n",
    "    all_ships = cost_to_float(all_ships)\n",
    "    all_ships = remove_spaces(all_ships)\n",
    "    all_ships = all_ships.sort_values('Manufacturer', ascending = True)\n",
    "    all_ships = all_ships.reset_index(drop = True)\n",
    "    \n",
    "\n",
    "    #Exporter block\n",
    "    if os.path.exists(f\"./data/allships_history/allships_{curr_date}.csv\") == True: #Check if file exists.\n",
    "        overwrite_check = input (\"File already exists--do you want to overwrite? (y/n)\") #Prompt for overwrite confirmation\n",
    "        if str.lower(overwrite_check) != 'y': #If user uses any value except y, the function will skip exporting.\n",
    "            pass\n",
    "        else:\n",
    "            all_ships.to_csv(f\"./data/allships_history/allships_{curr_date}.csv\", index = False)\n",
    "\n",
    "    return all_ships"
   ]
  },
  {
   "cell_type": "code",
   "execution_count": 55,
   "metadata": {},
   "outputs": [
    {
     "output_type": "execute_result",
     "data": {
      "text/plain": "    Manufacturer                          Ship    Lti  Warbond        ID  \\\n0          Aegis               Avenger Stalker   True    False   3389393   \n1          Aegis  Hammerhead 2949 Best in Show   True     True  13015759   \n2          Aegis                       Eclipse   True     True  12169671   \n3          Aegis               Vanguard Warden   True    False    473489   \n4          Aegis                   Sabre Raven  False    False  16569251   \n..           ...                           ...    ...      ...       ...   \n432      Vanduul                        Glaive   True    False   3388812   \n433      Vanduul       Captured Vanduul Scythe   True    False   3388812   \n434      Vanduul                        Glaive   True    False   4892595   \n435        Xi'an                     Khartu-al   True    False   3388812   \n436        Xi'an                     Khartu-al   True    False   4679792   \n\n                                                Pledge     Cost       Date  \\\n0                           Combo - War Pack - Digital   6865.0 2014-12-22   \n1       Standalone Ship - Aegis Hammerhead lti Warbond    500.0 2017-11-25   \n2    Standalone Ship - Aegis Eclipse LTI - Warbond ...    250.0 2017-05-18   \n3                                        Arbiter - LTI    250.0 2013-06-28   \n4                         Package - AEGIS Sabre Raven       0.0 2018-12-31   \n..                                                 ...      ...        ...   \n432                Combo - The Completionist - Digital  17161.0 2014-12-22   \n433                Combo - The Completionist - Digital  17161.0 2014-12-22   \n434                   Standalone Ship - Vanduul Glaive    350.0 2015-08-07   \n435                Combo - The Completionist - Digital  17161.0 2014-12-22   \n436        Standalone Ship - Reliant Mini Hauler - LTI    150.0 2015-05-22   \n\n    Date_Generated  \n0       2020-07-03  \n1       2020-07-03  \n2       2020-07-03  \n3       2020-07-03  \n4       2020-07-03  \n..             ...  \n432     2020-07-03  \n433     2020-07-03  \n434     2020-07-03  \n435     2020-07-03  \n436     2020-07-03  \n\n[437 rows x 9 columns]",
      "text/html": "<div>\n<style scoped>\n    .dataframe tbody tr th:only-of-type {\n        vertical-align: middle;\n    }\n\n    .dataframe tbody tr th {\n        vertical-align: top;\n    }\n\n    .dataframe thead th {\n        text-align: right;\n    }\n</style>\n<table border=\"1\" class=\"dataframe\">\n  <thead>\n    <tr style=\"text-align: right;\">\n      <th></th>\n      <th>Manufacturer</th>\n      <th>Ship</th>\n      <th>Lti</th>\n      <th>Warbond</th>\n      <th>ID</th>\n      <th>Pledge</th>\n      <th>Cost</th>\n      <th>Date</th>\n      <th>Date_Generated</th>\n    </tr>\n  </thead>\n  <tbody>\n    <tr>\n      <th>0</th>\n      <td>Aegis</td>\n      <td>Avenger Stalker</td>\n      <td>True</td>\n      <td>False</td>\n      <td>3389393</td>\n      <td>Combo - War Pack - Digital</td>\n      <td>6865.0</td>\n      <td>2014-12-22</td>\n      <td>2020-07-03</td>\n    </tr>\n    <tr>\n      <th>1</th>\n      <td>Aegis</td>\n      <td>Hammerhead 2949 Best in Show</td>\n      <td>True</td>\n      <td>True</td>\n      <td>13015759</td>\n      <td>Standalone Ship - Aegis Hammerhead lti Warbond</td>\n      <td>500.0</td>\n      <td>2017-11-25</td>\n      <td>2020-07-03</td>\n    </tr>\n    <tr>\n      <th>2</th>\n      <td>Aegis</td>\n      <td>Eclipse</td>\n      <td>True</td>\n      <td>True</td>\n      <td>12169671</td>\n      <td>Standalone Ship - Aegis Eclipse LTI - Warbond ...</td>\n      <td>250.0</td>\n      <td>2017-05-18</td>\n      <td>2020-07-03</td>\n    </tr>\n    <tr>\n      <th>3</th>\n      <td>Aegis</td>\n      <td>Vanguard Warden</td>\n      <td>True</td>\n      <td>False</td>\n      <td>473489</td>\n      <td>Arbiter - LTI</td>\n      <td>250.0</td>\n      <td>2013-06-28</td>\n      <td>2020-07-03</td>\n    </tr>\n    <tr>\n      <th>4</th>\n      <td>Aegis</td>\n      <td>Sabre Raven</td>\n      <td>False</td>\n      <td>False</td>\n      <td>16569251</td>\n      <td>Package - AEGIS Sabre Raven</td>\n      <td>0.0</td>\n      <td>2018-12-31</td>\n      <td>2020-07-03</td>\n    </tr>\n    <tr>\n      <th>...</th>\n      <td>...</td>\n      <td>...</td>\n      <td>...</td>\n      <td>...</td>\n      <td>...</td>\n      <td>...</td>\n      <td>...</td>\n      <td>...</td>\n      <td>...</td>\n    </tr>\n    <tr>\n      <th>432</th>\n      <td>Vanduul</td>\n      <td>Glaive</td>\n      <td>True</td>\n      <td>False</td>\n      <td>3388812</td>\n      <td>Combo - The Completionist - Digital</td>\n      <td>17161.0</td>\n      <td>2014-12-22</td>\n      <td>2020-07-03</td>\n    </tr>\n    <tr>\n      <th>433</th>\n      <td>Vanduul</td>\n      <td>Captured Vanduul Scythe</td>\n      <td>True</td>\n      <td>False</td>\n      <td>3388812</td>\n      <td>Combo - The Completionist - Digital</td>\n      <td>17161.0</td>\n      <td>2014-12-22</td>\n      <td>2020-07-03</td>\n    </tr>\n    <tr>\n      <th>434</th>\n      <td>Vanduul</td>\n      <td>Glaive</td>\n      <td>True</td>\n      <td>False</td>\n      <td>4892595</td>\n      <td>Standalone Ship - Vanduul Glaive</td>\n      <td>350.0</td>\n      <td>2015-08-07</td>\n      <td>2020-07-03</td>\n    </tr>\n    <tr>\n      <th>435</th>\n      <td>Xi'an</td>\n      <td>Khartu-al</td>\n      <td>True</td>\n      <td>False</td>\n      <td>3388812</td>\n      <td>Combo - The Completionist - Digital</td>\n      <td>17161.0</td>\n      <td>2014-12-22</td>\n      <td>2020-07-03</td>\n    </tr>\n    <tr>\n      <th>436</th>\n      <td>Xi'an</td>\n      <td>Khartu-al</td>\n      <td>True</td>\n      <td>False</td>\n      <td>4679792</td>\n      <td>Standalone Ship - Reliant Mini Hauler - LTI</td>\n      <td>150.0</td>\n      <td>2015-05-22</td>\n      <td>2020-07-03</td>\n    </tr>\n  </tbody>\n</table>\n<p>437 rows × 9 columns</p>\n</div>"
     },
     "metadata": {},
     "execution_count": 55
    }
   ],
   "source": [
    "allships = create_shiplist()\n",
    "allships"
   ]
  },
  {
   "cell_type": "code",
   "execution_count": 57,
   "metadata": {},
   "outputs": [
    {
     "output_type": "execute_result",
     "data": {
      "text/plain": "Index(['Manufacturer', 'Ship', 'Lti', 'Warbond', 'ID', 'Pledge', 'Cost',\n       'Date', 'Date_Generated'],\n      dtype='object')"
     },
     "metadata": {},
     "execution_count": 57
    }
   ],
   "source": [
    "allships.columns"
   ]
  },
  {
   "cell_type": "markdown",
   "metadata": {},
   "source": [
    "## Basic Analysis"
   ]
  },
  {
   "cell_type": "code",
   "execution_count": 59,
   "metadata": {},
   "outputs": [
    {
     "output_type": "execute_result",
     "data": {
      "text/plain": "Aegis           63\nAnvil           62\nDrake           53\nTumbril         51\nMISC            44\nOrigin          44\nRSI             35\nCrusader        27\nAopoa           12\nConsolidated    12\nBanu            12\nArgo             8\nKRIG             7\nVanduul          3\nEsperia          2\nXi'an            2\nName: Manufacturer, dtype: int64"
     },
     "metadata": {},
     "execution_count": 59
    }
   ],
   "source": [
    "allships['Manufacturer'].value_counts()"
   ]
  },
  {
   "cell_type": "code",
   "execution_count": null,
   "metadata": {},
   "outputs": [],
   "source": [
    "fig = plt.figure(figsize=(9,7))\n",
    "ax = fig.add_axes([0,0,1,1])\n",
    "makers = allships['Manufacturer'].unique()\n",
    "counts = allships['Manufacturer'].value_counts()\n",
    "ax.bar(makers, counts)\n",
    "ax.tick_params(axis = \"both\", labelsize = 12)\n",
    "ax.set_title('Ship Counts by Manufacturer', fontsize=20)\n",
    "ax.set_xlabel('Manufacturers', fontsize = 16)\n",
    "ax.set_ylabel('Ship Count', fontsize = 16)\n",
    "plt.xticks(rotation=90)\n",
    "\n",
    "plt.show()\n"
   ]
  },
  {
   "cell_type": "code",
   "execution_count": null,
   "metadata": {},
   "outputs": [],
   "source": []
  },
  {
   "cell_type": "markdown",
   "metadata": {},
   "source": [
    "## Analysis Tools"
   ]
  },
  {
   "cell_type": "markdown",
   "metadata": {},
   "source": [
    "### Total Expenditure"
   ]
  },
  {
   "cell_type": "markdown",
   "metadata": {},
   "source": [
    "This tool will generate a copy of the user allships dataframe, drop all rows with duplicate package IDs, and return a DF of packages indicating LTI, Warbond, and cost. It will drop Manufacturer and Ship columns."
   ]
  },
  {
   "cell_type": "code",
   "execution_count": 78,
   "metadata": {},
   "outputs": [],
   "source": [
    "def get_analytics(df):\n",
    "    #Get net value of org fleet\n",
    "    def total_expenditure(df):\n",
    "        costs = df.drop_duplicates(subset='ID', keep='first').copy()\n",
    "        print('Net Value of Fleet: ' + str(costs['Cost'].sum()))\n",
    "        pass\n",
    "    \n",
    "    #Get number of LTI ships\n",
    "    def total_LTI(df):\n",
    "        print('Total LTI Ships: ' + str(df['Lti'].value_counts()[True]))\n",
    "\n",
    "    #Get number of Warbond ships\n",
    "\n",
    "    #Get Values\n",
    "    total_expenditure(df)\n",
    "    total_LTI(df)\n",
    "pass"
   ]
  },
  {
   "cell_type": "code",
   "execution_count": 79,
   "metadata": {
    "tags": []
   },
   "outputs": [
    {
     "output_type": "stream",
     "name": "stdout",
     "text": "Net Value of Fleet: 93197.94\nTotal LTI Ships: 390\n"
    }
   ],
   "source": [
    "get_analytics(allships)"
   ]
  },
  {
   "cell_type": "code",
   "execution_count": null,
   "metadata": {},
   "outputs": [],
   "source": []
  }
 ],
 "metadata": {
  "language_info": {
   "codemirror_mode": {
    "name": "ipython",
    "version": 3
   },
   "file_extension": ".py",
   "mimetype": "text/x-python",
   "name": "python",
   "nbconvert_exporter": "python",
   "pygments_lexer": "ipython3",
   "version": "3.7.6-final"
  },
  "orig_nbformat": 2,
  "kernelspec": {
   "name": "python_defaultSpec_1593780607015",
   "display_name": "Python 3.7.6 64-bit ('base': conda)"
  }
 },
 "nbformat": 4,
 "nbformat_minor": 2
}